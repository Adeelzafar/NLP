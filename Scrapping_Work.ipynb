{
  "nbformat": 4,
  "nbformat_minor": 0,
  "metadata": {
    "colab": {
      "provenance": [],
      "include_colab_link": true
    },
    "kernelspec": {
      "name": "python3",
      "display_name": "Python 3"
    },
    "language_info": {
      "name": "python"
    }
  },
  "cells": [
    {
      "cell_type": "markdown",
      "metadata": {
        "id": "view-in-github",
        "colab_type": "text"
      },
      "source": [
        "<a href=\"https://colab.research.google.com/github/Adeelzafar/NLP/blob/main/Scrapping_Work.ipynb\" target=\"_parent\"><img src=\"https://colab.research.google.com/assets/colab-badge.svg\" alt=\"Open In Colab\"/></a>"
      ]
    },
    {
      "cell_type": "code",
      "execution_count": 1,
      "metadata": {
        "id": "3D_FTAIptSCw"
      },
      "outputs": [],
      "source": [
        "import numpy as np\n",
        "from bs4 import BeautifulSoup\n",
        "import pandas as pd\n",
        "import ssl\n",
        "ssl._create_default_https_context = ssl._create_unverified_context\n"
      ]
    },
    {
      "cell_type": "markdown",
      "source": [
        "**CODE FOR ACCESSING PAGES OF WEBSITE**"
      ],
      "metadata": {
        "id": "e3md7hr9EXBb"
      }
    },
    {
      "cell_type": "code",
      "source": [
        "\n",
        "from IPython.core.display import Image\n",
        "from datetime import datetime, timedelta\n",
        "import urllib.error, urllib.request, urllib.parse\n",
        "import requests \n",
        "import csv\n",
        "from urllib.request import Request, urlopen\n",
        "base_url = \"https://92newshd.tv/news-by-date/{}-{}-{}\"\n",
        "search_date = datetime(2022, 1 ,1)\n",
        "end_date = datetime(2022, 1, 1)\n",
        "one_day = timedelta(days=1)\n",
        "courses_list=[]\n",
        "while search_date < end_date:\n",
        "    url = base_url.format(search_date.year,search_date.month, search_date.day)\n",
        "    print(url)\n",
        "    page = requests.get(url)\n",
        "    soup = BeautifulSoup(page.text, 'html.parser')\n",
        "    search_date += one_day\n",
        "    date=[]\n",
        "    title=[]\n",
        "    href=[]\n",
        "    image_url=[]\n",
        "    news_contents=[] # Reading the content (it is divided in paragraphs) # Unifying the paragraphs\n",
        "    date1 = soup.find_all('div', attrs={'class':\"published_time\"})\n",
        "    title1= soup.find_all('div', attrs={'class':\"title\"})\n",
        "    links= soup.find_all('a', attrs={'class':\"post_link\"})\n",
        "    img_url= soup.find_all('img', class_='post_img thumb')\n",
        "    for element in date1:\n",
        "        print (element.text)\n",
        "        date.append(element.text)   \n",
        "    for tex in title1:\n",
        "        print(tex.text)\n",
        "        title.append(tex.text)\n",
        "    for a_link in links:\n",
        "        link1 = 'https://92newshd.tv' + a_link.get('href')\n",
        "        href.append(link1)\n",
        "        print(link1)\n",
        "        article = requests.get(link1)\n",
        "        article_content = article.content\n",
        "        soup_article = BeautifulSoup(article_content,'html.parser')\n",
        "        body = soup_article.find_all('div', attrs={'class':\"content_detail\"})\n",
        "        x = body[0].find_all('p')\n",
        "        paragraph=[]\n",
        "        list_paragraphs=[]\n",
        "        final_article=[]\n",
        "        for p in np.arange(0, len(x)):\n",
        "           paragraph = x[p].get_text()\n",
        "           list_paragraphs.append(paragraph)\n",
        "        final_article = \" \".join(list_paragraphs)\n",
        "        news_contents.append(final_article)\n",
        "    print(news_contents)  \n",
        "    for i_url in img_url:\n",
        "        image = 'https://92newshd.tv' + i_url['data-src']\n",
        "        image_url.append(image)\n",
        "        print(image_url)\n",
        "    df = pd.DataFrame(list(zip(date,title,href,image_url,news_contents)), columns=['Date' ,'Title','News_Url','Image_Url','News_Content'])\n",
        "    df.to_csv('92_News.csv', mode='a',index=False,header=True)\n",
        "    #df.to_csv(\"output1.csv\", index=False)\n",
        "print(\"Completed!\")"
      ],
      "metadata": {
        "colab": {
          "base_uri": "https://localhost:8080/"
        },
        "id": "jSTAo6SEGLjV",
        "outputId": "daebced4-385c-4615-f376-ea19f78a9d8e"
      },
      "execution_count": 2,
      "outputs": [
        {
          "output_type": "stream",
          "name": "stdout",
          "text": [
            "Completed!\n"
          ]
        }
      ]
    },
    {
      "cell_type": "markdown",
      "source": [
        "**CODE FOR EVERY LINK ON A WEBSITE**\n",
        "\n"
      ],
      "metadata": {
        "id": "W2ZkgOdIDrty"
      }
    },
    {
      "cell_type": "code",
      "source": [
        "from urllib.request import Request, urlopen\n",
        "\n",
        "req = Request('https://92newshd.tv/', headers={'User-Agent': 'Mozilla/5.0'})\n",
        "webpage = urlopen(req).read()\n",
        "soup = BeautifulSoup(webpage, 'html.parser')\n",
        "\n",
        "tags = soup('a')\n",
        "for tag in tags:\n",
        "    print(tag.get('href', None))\n",
        "    lnk = tag.get('href', None)\n",
        "    if lnk == \"/news-by-date\":\n",
        "        print(\"Crawling.........\")\n",
        "\n"
      ],
      "metadata": {
        "id": "n4UhVFynEmO5",
        "colab": {
          "base_uri": "https://localhost:8080/"
        },
        "outputId": "4c6aae01-aa9c-46c6-cc2e-c2b6e270cf9c"
      },
      "execution_count": 3,
      "outputs": [
        {
          "output_type": "stream",
          "name": "stdout",
          "text": [
            "https://urdu.92newshd.tv/\n",
            "https://play.google.com/store/apps/details?id=com.news92.live\n",
            "https://apps.apple.com/pk/app/92-news-hd-plus/id1248053879\n",
            "https://api.whatsapp.com/send?phone=\n",
            "https://twitter.com/92newschannel\n",
            "https://www.facebook.com/92NewsHD/\n",
            "https://www.youtube.com/channel/UCsgC5cbz3DE2Shh34gNKiog\n",
            "/contact-us/Search-Options\n",
            "/category\n",
            "/weather/forecast\n",
            "/\n",
            "/latest-news\n",
            "/category/Technology\n",
            "/category/pakistan\n",
            "/category/business\n",
            "/category/sports\n",
            "/category/Entertainment\n",
            "/category/Health\n",
            "/category/world\n",
            "/live-tv\n",
            "/live-uk\n",
            "https://www.roznama92news.com\n",
            "https://urdu.92newshd.tv\n",
            "https://urdu.92newshd.tv\n",
            "https://www.roznama92news.com\n",
            "https://urdu.92newshd.tv/live-tv\n",
            "https://urdu.92newshd.tv/live-uk\n",
            "/category/imran-khan\n",
            "/category/pm-shehbaz-sharif\n",
            "/category/fifa-world-cup-2022\n",
            "/category/pak-england-series-2022\n",
            "/about/pm-shehbaz-sharif-ajk-pm-tanvir-ilyas-exchange-hot-words-during-ceremony-in-mangla\n",
            "/about/england-pull-exciting-74-run-win-over-pakistan-in-first-test\n",
            "/about/construction-development-do-not-happen-through-sit-ins-and-slogans-pm-shehbaz-sharif\n",
            "/about/51st-martyrdom-anniversary-of-maj-muhammad-akram-shaheed-nishan-e-haider-observed\n",
            "/about/fm-bilawal-bhutto-rejects-imran-khan-s-demand-for-early-elections\n",
            "/about/cabinet-approves-retirement-of-lt-gen-faiz-hameed-lt-gen-azhar-abbas\n",
            "/about/soldier-martyred-five-terrorists-killed-in-north-waziristan-ibo\n",
            "/about/daish-member-arrested-for-attack-on-pakistan-embassy-taliban-spokesman\n",
            "/about/nab-should-be-abolished-for-the-survival-of-the-country-says-shahid-khaqan\n",
            "https://videos.92newshd.tv\n",
            "/about/elated-england-turn-thoughts-to-fearsome-france\n",
            "/about/france-beat-poland-to-reach-world-cup-quarter-finals\n",
            "/about/opec-agrees-no-change-to-oil-policy\n",
            "/about/magic-messi-fires-argentina-into-world-cup-quarters\n",
            "/about/sudan-s-military-civilian-factions-sign-deal-seeking-to-end-crisis\n",
            "/about/north-korea-fires-artillery-barrage-into-buffer-zone-seoul\n",
            "/about/covid-confusion-in-china-as-authorities-row-back-curbs\n",
            "/about/g7-begins-to-press-russia-on-ukraine-with-oil-price-cap\n",
            "https://92newshd.tv/latest-news\n",
            "/about/cabinet-approves-retirement-of-lt-gen-faiz-hameed-lt-gen-azhar-abbas\n",
            "/about/pm-shehbaz-sharif-ajk-pm-tanvir-ilyas-exchange-hot-words-during-ceremony-in-mangla\n",
            "/about/sudan-s-military-civilian-factions-sign-deal-seeking-to-end-crisis\n",
            "/about/asif-zardari-inquires-after-health-of-pml-q-chief-ch-shujaat-hussain\n",
            "/about/soldier-martyred-five-terrorists-killed-in-north-waziristan-ibo\n",
            "/about/disqualification-in-toshakhana-case-ecp-starts-proceedings-to-remove-imran-khan-as-party-head\n",
            "/about/england-pull-exciting-74-run-win-over-pakistan-in-first-test\n",
            "/about/north-korea-fires-artillery-barrage-into-buffer-zone-seoul\n",
            "/about/daish-member-arrested-for-attack-on-pakistan-embassy-taliban-spokesman\n",
            "/about/sindh-govt-has-zero-tolerance-for-corruption-says-murtaza-wahab\n",
            "/about/construction-development-do-not-happen-through-sit-ins-and-slogans-pm-shehbaz-sharif\n",
            "/about/51st-martyrdom-anniversary-of-maj-muhammad-akram-shaheed-nishan-e-haider-observed\n",
            "/about/\n",
            "/about/\n",
            "/about/\n",
            "/about/\n",
            "https://www.facebook.com/92NewsHD/\n",
            "https://www.instagram.com/92news_official/\n",
            "https://twitter.com/92newschannel\n",
            "https://www.youtube.com/channel/UCsgC5cbz3DE2Shh34gNKiog\n",
            "/cdn-cgi/l/email-protection\n",
            "/contact-us\n",
            "https://api.whatsapp.com/send?phone=\n",
            "https://apps.apple.com/pk/app/92-news-hd-plus/id1248053879\n",
            "https://play.google.com/store/apps/details?id=com.news92.live\n",
            "https://www.facebook.com/92NewsHD\n",
            "https://twitter.com/92newschannel\n",
            "https://www.youtube.com/channel/UCsgC5cbz3DE2Shh34gNKiog\n",
            "https://www.instagram.com/92news_official\n",
            "https://en.wikipedia.org/wiki/1992_Cricket_World_Cup\n",
            "https://92newshd.tv\n",
            "https://urdu.92newshd.tv\n",
            "https://videos.92newshd.tv\n",
            "https://roznama92news.com\n"
          ]
        }
      ]
    },
    {
      "cell_type": "code",
      "source": [],
      "metadata": {
        "id": "UwNB9zbwKCPf"
      },
      "execution_count": null,
      "outputs": []
    }
  ]
}